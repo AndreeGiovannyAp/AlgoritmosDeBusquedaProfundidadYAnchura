{
  "nbformat": 4,
  "nbformat_minor": 0,
  "metadata": {
    "colab": {
      "name": "Copia de Actividad 2 T3.ipynb",
      "provenance": [],
      "collapsed_sections": []
    },
    "kernelspec": {
      "name": "python3",
      "display_name": "Python 3"
    }
  },
  "cells": [
    {
      "cell_type": "markdown",
      "metadata": {
        "id": "KzeqoaejgcUz"
      },
      "source": [
        "##**Ejercicio 1 Torres de Hanoi**\n",
        "El juego, en su forma más tradicional, consiste en tres varillas verticales. En una de las varillas se apila un número indeterminado de discos (elaborados de madera) que determinará la complejidad de la solución. Los discos se apilan sobre una varilla en tamaño decreciente. No hay dos discos iguales, y todos ellos están apilados de mayor a menor radio en una de las varillas, quedando las otras dos varillas vacantes. El juego consiste en pasar todos los discos de la varilla ocupada (es decir la que posee la torre) a una de las otras varillas vacantes. Para realizar este objetivo, es necesario seguir tres simples reglas:\n",
        "\n",
        "1. Sólo se puede mover un disco cada vez.\n",
        "2. Un disco de mayor tamaño no puede descansar sobre uno más pequeño que él mismo.\n",
        "3. Sólo puedes desplazar el disco que se encuentre arriba en cada varilla.\n",
        "\n"
      ]
    },
    {
      "cell_type": "markdown",
      "metadata": {
        "id": "tJtPLvFl6YAA"
      },
      "source": [
        "Estructuras de datos "
      ]
    },
    {
      "cell_type": "code",
      "metadata": {
        "id": "qeSmFI3gl-sE"
      },
      "source": [
        "import numpy\n",
        "class Pila:\n",
        "    #iniciamos una pila que la representaremos como un \n",
        "    def __init__(self):\n",
        "        self.items=[]\n",
        "    #Metodo vaciar pila.\n",
        "    def vaciar(self):\n",
        "        return self.items == []\n",
        "    #metodo para agregar un elemento a la cola\n",
        "    def push(self, item):\n",
        "        self.items.append(item)\n",
        "    #metodo para sacar un elemento en la cola \n",
        "    def pop(self):\n",
        "        return self.items.pop()\n",
        "    #metodo para ver la cabecera de la cola \n",
        "    def cabecera(self):\n",
        "        if self.isEmpty()==False:\n",
        "            return self.items[len(self.items)-1]\n",
        "        return 0\n",
        "    #metodo para regresar el tamaño de la pila \n",
        "    def tamaño(self):\n",
        "        return len(self.items)\n",
        "    #metodo que te regresa la pila entera \n",
        "    def getPila(self):\n",
        "        return self.items\n",
        "    #metodo para imprimir los elementos de la pila\n",
        "    def imprimir(self):\n",
        "        print(self.items)\n",
        "    #metodo para saber si la pila esta vacia \n",
        "    def isEmpty(self):\n",
        "        return len(self.items)==0"
      ],
      "execution_count": 2,
      "outputs": []
    },
    {
      "cell_type": "code",
      "metadata": {
        "id": "v_BFW-EH6F-U"
      },
      "source": [
        "class Cola:\n",
        "    #definimos un arreglo que sera el que nos guarde la cola \n",
        "    def __init__(self):\n",
        "        self.items = []\n",
        "    #verifica que la cola este vacia \n",
        "    def estaVacia(self):\n",
        "        return len(self.items)==0\n",
        "    # agrega un elemento nuevo a la cola \n",
        "    def agregar(self, item):\n",
        "        self.items.insert(0,item)\n",
        "    #Saca un elemento de la cola y regresa el objeto \n",
        "    def avanzar(self):\n",
        "        return self.items.pop()\n",
        "    #Verifica lo que esta en la cabeza de la cola \n",
        "    def punta(self):\n",
        "        if not self.estaVacia(): \n",
        "            return self.items[0]\n",
        "        return 0\n",
        "    #regresa el tamaño de la cola \n",
        "    def tamano(self):\n",
        "        return len(self.items)"
      ],
      "execution_count": 3,
      "outputs": []
    },
    {
      "cell_type": "markdown",
      "metadata": {
        "id": "Z0Ac7CRl62V8"
      },
      "source": [
        "Estado de las torres de Hannoi"
      ]
    },
    {
      "cell_type": "code",
      "metadata": {
        "id": "hkMXTX_pCvT9"
      },
      "source": [
        "class Hannoi:\n",
        "    #Inicializa 3 pilas que seran las que definen las torres de hannoi \n",
        "    def __init__(self):\n",
        "      #se inicialializan las pilas \n",
        "        self.pa=Pila()\n",
        "        self.pb=Pila()\n",
        "        self.pc=Pila()\n",
        "        #agregamos los valores 1 2 3 que son los que representan los discos, en nuestras pilas \n",
        "        self.pa.push(3)\n",
        "        self.pa.push(2)\n",
        "        self.pa.push(1) \n",
        "    #Verificamos que un valor pueda mmoverse de una pila a otra \n",
        "    def sacarPilaMeterValor(self, Pila, Pila2):\n",
        "        if  (not Pila.isEmpty()) and ((Pila.cabecera()<Pila2.cabecera()) or Pila2.isEmpty()):    \n",
        "            return True\n",
        "        return False\n",
        "    #regresamos la pila A\n",
        "    def getPilaA(self):\n",
        "        return self.pa\n",
        "    #Regresamos la pila B \n",
        "    def getPilaB(self):\n",
        "        return self.pb\n",
        "    #Regresamos la pila C\n",
        "    def getPilaC(self):\n",
        "        return self.pc\n",
        "    #Anotar las cabeceras \n",
        "    def regresaCabeceras(self):\n",
        "        return numpy.array([self.pa.cabecera(),self.pb.cabecera(),self.pc.cabecera()])\n"
      ],
      "execution_count": 4,
      "outputs": []
    },
    {
      "cell_type": "markdown",
      "metadata": {
        "id": "e8mL96OE67_A"
      },
      "source": [
        "Torres de Hannoi profundidad "
      ]
    },
    {
      "cell_type": "code",
      "metadata": {
        "id": "qhS40aZKC4iv"
      },
      "source": [
        "import copy\n",
        "from timeit import default_timer as timer\n",
        "#Definimos nuestra clase profundidad \n",
        "class profundidad():\n",
        "    def __init__(self):\n",
        "      #se define la profundidad maxima cuanto tendra de maxima capacidad la pila para subir y bajar \n",
        "        self.profundidad=10\n",
        "        #la bandera nos ayudara a terminar el programa cuando encuentre la solución \n",
        "        self.bandera=False\n",
        "        #Hiniciamos el estado con la cabecera en [1 0 0], teniendo en cuenta que en la pila 1 hay 1 2 3\n",
        "        self.ha=Hannoi()\n",
        "        #armamos la pila ue ira haciendo el arbol\n",
        "        self.arbol=Pila()\n",
        "        #agregamos el primer estado a la pila \n",
        "        self.arbol.push(self.ha)\n",
        "        #agregaos la solución verificando que todos los elementos quede en 0,0,1 \n",
        "        self.solucion=numpy.array([0,0,1])\n",
        "        #Iniciamos el contador de tiempo \n",
        "        start=timer()\n",
        "        #Llamamos al metodo para construir el arbol \n",
        "        self.construyeArbol()\n",
        "        #terminamos el tiempo de ejecución \n",
        "        end =timer()\n",
        "        #sacamos el total \n",
        "        total = end-start\n",
        "        #imprimimos el timepo total \n",
        "        print(\"El tiempo de ejecucion fue de %s\" %total)\n",
        "        #regresamos la pila solucion. que son los pasos de la pila \n",
        "        if(self.bandera==True):\n",
        "            print(\"------------SOLUCION------------------\")\n",
        "            self.imprimir(self.pilaaux)\n",
        "            print(\"___________________________________________\")\n",
        "        \n",
        "  #Metodo para construir el arbol. \n",
        "    def construyeArbol(self):\n",
        "        # definimos nuestro caso base  ue sera cuando encontremos la respuesta \n",
        "        if ((self.solucion == self.arbol.cabecera().regresaCabeceras()).all()) and (self.bandera==False):\n",
        "            self.pilaaux=copy.deepcopy(self.arbol)\n",
        "            self.bandera=True \n",
        "            return True\n",
        "            exit()\n",
        "        else:\n",
        "          # si no es el caso base hacemos movimientos en las pilas de la torre primero intentamos mover un disco de la pila a a b \n",
        "            self.comparaPilas(self.arbol.cabecera().getPilaA(), self.arbol.cabecera().getPilaB()) \n",
        "            #        de a a c \n",
        "            self.comparaPilas(self.arbol.cabecera().getPilaA(), self.arbol.cabecera().getPilaC())\n",
        "            # de b a a\n",
        "            self.comparaPilas(self.arbol.cabecera().getPilaB(), self.arbol.cabecera().getPilaA())\n",
        "            # de b a c\n",
        "            self.comparaPilas(self.arbol.cabecera().getPilaB(), self.arbol.cabecera().getPilaC())\n",
        "            # de c a a\n",
        "            self.comparaPilas(self.arbol.cabecera().getPilaC(), self.arbol.cabecera().getPilaA())\n",
        "            #de c a b\n",
        "            self.comparaPilas(self.arbol.cabecera().getPilaC(), self.arbol.cabecera().getPilaB())\n",
        "            \n",
        "    def comparaPilas(self, Pila1,Pila2 ):\n",
        "        #aqui verificamos que la pila no, se pase del tamaño de la profundidad que se pueda hacer el movimiento de una pila a otra y no se haya encontrado un resultado \n",
        "        if ((self.arbol.tamaño()<self.profundidad+1 and self.arbol.cabecera().sacarPilaMeterValor(Pila1,Pila2))) and (self.bandera==False):\n",
        "          #hacemos una copia de la cabecera de nuestra pila \n",
        "            aux=copy.deepcopy(self.arbol.cabecera()) \n",
        "            #movemos de una pila a otra \n",
        "            Pila2.push(Pila1.pop())\n",
        "            #sacamos la cabecera de nuestra pila \n",
        "            aux2=self.arbol.pop()\n",
        "            #agregamos primero la copia y despues la cabecera que sacamos ya que esta fue la que se modifico con el movimiento  y la cabecera anterior es la que estaba cuando \n",
        "            #empezo el metodo \n",
        "            self.arbol.push(aux)\n",
        "            self.arbol.push(aux2)\n",
        "            #hacemos la recursividad construyendo el arbol             \n",
        "            self.construyeArbol() \n",
        "            #si despues de entrar a la recursividad entra y no cumple con algunos de las condiciones el metodo acaba y saca el valor de la pila  \n",
        "            self.arbol.pop()  \n",
        "\n",
        "            #metodo para imprimir la pila   \n",
        "    def imprimir(self, pilaaux2):\n",
        "        pilaaux=copy.deepcopy(pilaaux2)\n",
        "        while not pilaaux.isEmpty():\n",
        "                print(\"------->        \",pilaaux.cabecera().regresaCabeceras())\n",
        "                pilaaux.pop()\n"
      ],
      "execution_count": 5,
      "outputs": []
    },
    {
      "cell_type": "code",
      "metadata": {
        "colab": {
          "base_uri": "https://localhost:8080/"
        },
        "id": "C85yxhv-C_ax",
        "outputId": "20319dd2-bd1d-44c4-9fbb-58c8d161e094"
      },
      "source": [
        "p=profundidad()"
      ],
      "execution_count": 6,
      "outputs": [
        {
          "output_type": "stream",
          "name": "stdout",
          "text": [
            "El tiempo de ejecucion fue de 0.15532087900000136\n",
            "------------SOLUCION------------------\n",
            "------->         [0 0 1]\n",
            "------->         [0 1 2]\n",
            "------->         [1 0 2]\n",
            "------->         [1 2 3]\n",
            "------->         [0 1 3]\n",
            "------->         [3 1 0]\n",
            "------->         [1 2 0]\n",
            "------->         [1 0 2]\n",
            "------->         [3 1 2]\n",
            "------->         [2 1 0]\n",
            "------->         [1 0 0]\n",
            "___________________________________________\n"
          ]
        }
      ]
    },
    {
      "cell_type": "markdown",
      "metadata": {
        "id": "NweiZRCp7B9a"
      },
      "source": [
        "Torres de Hannoi Anchura"
      ]
    },
    {
      "cell_type": "code",
      "metadata": {
        "id": "dRbtvnOQ7FWh"
      },
      "source": [
        "import copy\n",
        "from timeit import default_timer as timer\n",
        "# definimos nuestro algoritmo por anchura \n",
        "class Anchura:\n",
        "        def __init__(self):\n",
        "          # definimos el estado inicial que es nuestra clase Hannoi [1 0 0] \n",
        "            self.ha=Hannoi()\n",
        "            # se define la solución de \n",
        "            self.solucion=numpy.array([0,0,1])\n",
        "            #creamos una pila \n",
        "            self.pila = Pila()\n",
        "            #creamos una cola \n",
        "            self.cola=Cola()\n",
        "            #creamos nuestra salida cuando encontramos la solción \n",
        "            self.bandera=False\n",
        "            #agregamos el primer estado a la pila \n",
        "            self.pila.push(self.ha) \n",
        "            #y agregamos esa pila a la cola \n",
        "            self.cola.agregar(self.pila)\n",
        "            #Inicializamos el  tiempo para medir el tiempo de ejecucion \n",
        "            start=timer()\n",
        "            #Iniciamos el ciclo while para ir recorriendo la cola donde estan las pilas que tienes el camino a las soluciones \n",
        "            while(not self.bandera):              \n",
        "                #en construye arbol sacamos la primera pila de estados   \n",
        "                self.construyeArbol(self.cola.avanzar())\n",
        "            #Termina el tiempo de ejecución \n",
        "            end =timer()\n",
        "            #tiempo total \n",
        "            total = end-start\n",
        "            #imprimimos el total \n",
        "            print(\"El tiempo de ejecucion fue de %s\" %total)\n",
        "            #se imprime la solución \n",
        "            self.imprimir(self.pilasolucion)\n",
        "            #metodo para construir  las diferentes pilas \n",
        "        def construyeArbol(self, pila):   \n",
        "          #verificamos el caso base       \n",
        "            if (self.solucion == pila.cabecera().regresaCabeceras()).all() and (self.bandera==False):\n",
        "                self.pilasolucion=copy.deepcopy(pila)\n",
        "                self.bandera=True \n",
        "                return True\n",
        "                exit()\n",
        "            else:\n",
        "              # si no es el caso base hacemos movimientos en las pilas de la torre primero intentamos mover un disco de la pila a a b \n",
        "                self.movimientos(pila,pila.cabecera().getPilaA(), pila.cabecera().getPilaB())   \n",
        "                #de a a c\n",
        "                self.movimientos(pila,pila.cabecera().getPilaA(), pila.cabecera().getPilaC())\n",
        "                #de b a a\n",
        "                self.movimientos(pila,pila.cabecera().getPilaB(), pila.cabecera().getPilaA())\n",
        "                #de b a c\n",
        "                self.movimientos(pila,pila.cabecera().getPilaB(), pila.cabecera().getPilaC())\n",
        "                #de c a a \n",
        "                self.movimientos(pila,pila.cabecera().getPilaC(), pila.cabecera().getPilaA())\n",
        "                #de c a b\n",
        "                self.movimientos(pila,pila.cabecera().getPilaC(), pila.cabecera().getPilaB())\n",
        "                #metodo que hace los movimientos \n",
        "        def movimientos(self, pila,Pila1,Pila2):\n",
        "          #verificamos si podemos mover un valos de una pila a otra y que no se haya encontrado la solución \n",
        "            if (self.pila.cabecera().sacarPilaMeterValor(Pila1,Pila2)) and (self.bandera==False):\n",
        "              #creamos una copia del estado anterios \n",
        "                EstadoNuevo=copy.deepcopy(pila)  #Las pilas de hannoi's cabezera[1 0 0]\n",
        "                #hacemos el movimiento \n",
        "                Pila2.push(Pila1.pop()) #pila [2 1 0]\n",
        "                #copiamos el estado de la cabecera\n",
        "                cabeceraDePilaModificada=copy.deepcopy(pila.cabecera())# [2 1 0]  \n",
        "                if((self.solucion == cabeceraDePilaModificada.regresaCabeceras()).all()):\n",
        "                    print(\"**************************************************solucion agregada a la cola ********************************\")\n",
        "                #agregamos a la copia de la pila  el nuevo estado \n",
        "                EstadoNuevo.push(cabeceraDePilaModificada)\n",
        "                #revertimos el movimiento que hicimos para que el nodo anterior quede igual \n",
        "                Pila1.push(Pila2.pop())\n",
        "                #y agregamos a la cola el estado nuevo \n",
        "                self.cola.agregar(EstadoNuevo)\n",
        "        #metodo para imprimir una pila \n",
        "        def imprimir(self, pila):\n",
        "            print(\"----------->\" )\n",
        "            while not pila.isEmpty():\n",
        "                print(\"---\",pila.cabecera().regresaCabeceras() , \"\\n\")\n",
        "                pila.pop()"
      ],
      "execution_count": 7,
      "outputs": []
    },
    {
      "cell_type": "code",
      "metadata": {
        "colab": {
          "base_uri": "https://localhost:8080/"
        },
        "id": "RbgyEDxZ7Mx4",
        "outputId": "1c5fd2f9-aca2-4acd-ba0f-ec3e4b252922"
      },
      "source": [
        "a=Anchura()"
      ],
      "execution_count": 8,
      "outputs": [
        {
          "output_type": "stream",
          "name": "stdout",
          "text": [
            "**************************************************solucion agregada a la cola ********************************\n",
            "**************************************************solucion agregada a la cola ********************************\n",
            "**************************************************solucion agregada a la cola ********************************\n",
            "**************************************************solucion agregada a la cola ********************************\n",
            "El tiempo de ejecucion fue de 1.7357371150000063\n",
            "----------->\n",
            "--- [0 0 1] \n",
            "\n",
            "--- [1 0 2] \n",
            "\n",
            "--- [1 2 3] \n",
            "\n",
            "--- [0 1 3] \n",
            "\n",
            "--- [3 1 0] \n",
            "\n",
            "--- [3 2 1] \n",
            "\n",
            "--- [2 0 1] \n",
            "\n",
            "--- [1 0 0] \n",
            "\n"
          ]
        }
      ]
    },
    {
      "cell_type": "markdown",
      "metadata": {
        "id": "EGiYE0rAhN0r"
      },
      "source": [
        "#**Ejercicio 2 Problema de las jarras de agua**\n",
        "En el problema de las jarras (A,B,C) se tienen dos jarras sin marcas de medición, una de A litros de capacidad y otra de B. También se dispone de una bomba que permite llenar las jarras de agua.\n",
        "\n",
        "El problema de las jarras (A,B,C) consiste en determinar cómo se puede lograr tener exactamente C litros de agua en alguna de las dos jarras."
      ]
    },
    {
      "cell_type": "markdown",
      "metadata": {
        "id": "XoaV-J1o8iTv"
      },
      "source": [
        "Jarras objeto "
      ]
    },
    {
      "cell_type": "code",
      "metadata": {
        "id": "4l_tnzn16puB"
      },
      "source": [
        "#Definimos el estado jarra para que \n",
        "class Jarra():\n",
        "    def __init__(self, lim):\n",
        "        self.limite = lim\n",
        "        self.edo_actual = 0\n",
        "        # Estado Actual de la jarra\n",
        "    def getEdoActual(self):\n",
        "        return self.edo_actual\n",
        "    # cambiar el estado actual \n",
        "    def setEdoActual(self, litros):\n",
        "        self.edo_actual = litros\n",
        "    #Cuanto le cabe\n",
        "    def getLimite(self):\n",
        "        return self.limite\n",
        "    #cambiar la capacidad\n",
        "    def setLimite(self, lim):\n",
        "        self.limite = lim;\n",
        "    #Quitar cierta cantidad de agua de la jarra\n",
        "    def quitarAguaDeJarra(self, agua):\n",
        "        self.edo_actual=self.edo_actual-agua\n",
        "        return self.edo_actual\n",
        "    #Agregar cierta cantidad de  agua a la jarra \n",
        "    def agregarAgua(self, agua):\n",
        "        self.edo_actual= self.edo_actual+agua\n",
        "        return self.edo_actual\n",
        "    #Tirar el agua de la jarra \n",
        "    def vaciarJarra(self):\n",
        "        if self.edo_actual != 0:\n",
        "            self.edo_actual = 0\n",
        "    #Llenar de agua la jarra \n",
        "    def llenarJarra(self):\n",
        "        if self.edo_actual == 0:\n",
        "            self.edo_actual = self.limite"
      ],
      "execution_count": 9,
      "outputs": []
    },
    {
      "cell_type": "markdown",
      "metadata": {
        "id": "k087pryq8l5h"
      },
      "source": [
        "Estado de las Jarras"
      ]
    },
    {
      "cell_type": "code",
      "metadata": {
        "id": "98U5V9Jz6vrf"
      },
      "source": [
        "\n",
        "class EstadoJarras():\n",
        "    def __init__(self):\n",
        "        #que los litros de la jarra a y b sean diferentes \n",
        "        self.jarraA=Jarra(4)\n",
        "        self.jarraB=Jarra(3)\n",
        "\n",
        "    def getJarraA(self):\n",
        "        return self.jarraA\n",
        "    def getJarraB(self):\n",
        "        return self.jarraB\n",
        "    def vaciarJarra(self, jarra, jarra2):\n",
        "        #print(jarra2.getLimite()>jarra2.getEdoActual())\n",
        "        if (jarra.getEdoActual()>jarra2.getEdoActual()) and jarra2.getLimite()>jarra2.getEdoActual():\n",
        "            return True\n",
        "        return False\n",
        "    #Anotar las cabeceras\n",
        "    def regresaCabeceras(self):\n",
        "        return numpy.array([self.jarraA.getEdoActual(),self.jarraB.getEdoActual()])\n"
      ],
      "execution_count": 10,
      "outputs": []
    },
    {
      "cell_type": "markdown",
      "metadata": {
        "id": "G6R3fisT8omB"
      },
      "source": [
        "Jarras a profundidad"
      ]
    },
    {
      "cell_type": "code",
      "metadata": {
        "id": "NGAZEvGM7zbo"
      },
      "source": [
        "import copy\n",
        "from timeit import default_timer as timer\n",
        "class  JarrasProfundidad():\n",
        "    def __init__(self):\n",
        "        self.limite=2#Jarra c que la jarra c sea menor a la jarra b y a\n",
        "        self.pilaaux=Pila()\n",
        "        #definimos la profundidad\n",
        "        self.profundidad=7\n",
        "        #definimos la bandera que nos ayudara a parar el programa\n",
        "        self.bandera=False\n",
        "        #definimos el estado jarras que son las jarras que ocuparemos \n",
        "        self.Jarras=EstadoJarras()\n",
        "        #hacemos la pila \n",
        "        self.arbol=Pila()\n",
        "        #agregamos el estado a la pila  \n",
        "        self.arbol.push(self.Jarras)\n",
        "         #iniciamos el tiempo \n",
        "        start=timer()\n",
        "        #construimos el arbol con el metodo recursivo\n",
        "        self.construyeArbol()\n",
        "        # terminamos el tiempo \n",
        "        end =timer()\n",
        "        #sacamos el total \n",
        "        total = end-start\n",
        "        #imprimimos el tiempo de ejecusion \n",
        "        print(\"El tiempo de ejecucion fue de %s\" %total)\n",
        "        print(\"-----------------solución-------------------\")\n",
        "        #se imprime el resultado \n",
        "        if self.pilaaux.tamaño()>0:\n",
        "            self.imprimir(self.pilaaux)\n",
        "        else:\n",
        "            print(\"No hay solución con profundidad \", self.profundidad)\n",
        "    #se construye el arbol \n",
        "    def construyeArbol(self):\n",
        "      #verificamos ue ninguna de las dos jarras tenga dos litros y que no se haya encontrado la solución \n",
        "        if (self.limite == self.arbol.cabecera().getJarraA().getEdoActual() or  self.limite == self.arbol.cabecera().getJarraB().getEdoActual()) and (self.bandera==False):\n",
        "            print(\"encontrado    **********************************\")\n",
        "            #copiamos la soucion y cambiamos la bandera a verdadero \n",
        "            self.pilaaux=copy.deepcopy(self.arbol)\n",
        "            self.bandera=True \n",
        "            return True\n",
        "        else:\n",
        "            #Llenar Jarrasn A y B \n",
        "            self.llenarJarra(self.arbol.cabecera().getJarraB())\n",
        "            self.llenarJarra(self.arbol.cabecera().getJarraA())  \n",
        "            #Vaciar Jarras A Y B \n",
        "            self.tirarAgua(self.arbol.cabecera().getJarraA())\n",
        "            self.tirarAgua(self.arbol.cabecera().getJarraB())\n",
        "            #mover de jarra a jarra DE A a B \n",
        "            self.VaciarJarra(self.arbol.cabecera().getJarraA(), self.arbol.cabecera().getJarraB())\n",
        "            # de B a A \n",
        "            self.VaciarJarra(self.arbol.cabecera().getJarraB(), self.arbol.cabecera().getJarraA())\n",
        "#metodo para tirar el agua \n",
        "    def tirarAgua(self, jarra):\n",
        "      #copiamos la cabecera del arbol \n",
        "        aux=copy.deepcopy(self.arbol.cabecera()) \n",
        "        if jarra.getEdoActual()>0  and (self.arbol.tamaño()<self.profundidad+1 and (self.bandera==False)):\n",
        "          #Vacia la jarra que entra\n",
        "            jarra.vaciarJarra()\n",
        "            #saca el valor de la pila \n",
        "            aux2=self.arbol.pop()\n",
        "            #agrega el viejo valor y despues agrega el valor que acabamos de sacar\n",
        "            self.arbol.push(aux)\n",
        "            self.arbol.push(aux2)\n",
        "            #y llama a construye arbol \n",
        "            self.construyeArbol()\n",
        "            # si \n",
        "            self.arbol.pop()\n",
        "\n",
        "    def llenarJarra(self,jarra):\n",
        "      # se llena la jarra de agua \n",
        "        aux=copy.deepcopy(self.arbol.cabecera() ) \n",
        "        if jarra.getEdoActual()==0 and (self.arbol.tamaño()<self.profundidad+1 and (self.bandera==False)):\n",
        "            jarra.llenarJarra()\n",
        "            aux2=self.arbol.pop()\n",
        "            self.arbol.push(aux)\n",
        "            self.arbol.push(aux2)\n",
        "            #agrega datos y construye la \n",
        "            self.construyeArbol()\n",
        "            self.arbol.pop()\n",
        "\n",
        "    def VaciarJarra(self, jarra1, jarra2):\n",
        "        aux=copy.deepcopy(self.arbol.cabecera()) \n",
        "\n",
        "        if self.arbol.tamaño()<self.profundidad+1 and (self.bandera==False):\n",
        "            if (self.arbol.cabecera().vaciarJarra(jarra1,jarra2)):\n",
        "                aguaquelecabe= jarra2.getLimite()-jarra2.getEdoActual()  #agua que le cabe a la jarra dos\n",
        "                if aguaquelecabe>jarra1.getEdoActual():\n",
        "                    aguaquelecabe=jarra1.getEdoActual()+0\n",
        "                    jarra1.quitarAguaDeJarra(aguaquelecabe)\n",
        "                    jarra2.agregarAgua(aguaquelecabe)\n",
        "                else:\n",
        "                    jarra1.quitarAguaDeJarra(aguaquelecabe)\n",
        "                    jarra2.agregarAgua(aguaquelecabe)\n",
        "                aux2=self.arbol.pop()    \n",
        "                self.arbol.push(aux)\n",
        "                self.arbol.push(aux2)\n",
        "                self.construyeArbol()\n",
        "                self.arbol.pop()\n",
        "\n",
        "    def imprimir(self, pilaaux2):\n",
        "        print(\"resultado\")\n",
        "        val=pilaaux2.tamaño()\n",
        "        pilaaux=copy.deepcopy(pilaaux2)\n",
        "        while not pilaaux.isEmpty():   \n",
        "            print(\"------->        \",pilaaux.cabecera().regresaCabeceras(),\"   \",val)\n",
        "            val=val-1\n",
        "            pilaaux.pop()"
      ],
      "execution_count": 11,
      "outputs": []
    },
    {
      "cell_type": "code",
      "metadata": {
        "colab": {
          "base_uri": "https://localhost:8080/"
        },
        "id": "L55JVWDCFSbb",
        "outputId": "08f85868-635e-467e-cab8-80ce8f04937d"
      },
      "source": [
        "Jp=JarrasProfundidad()"
      ],
      "execution_count": 16,
      "outputs": [
        {
          "output_type": "stream",
          "name": "stdout",
          "text": [
            "encontrado    **********************************\n",
            "El tiempo de ejecucion fue de 0.19879339400000617\n",
            "-----------------solución-------------------\n",
            "resultado\n",
            "------->         [2 3]     7\n",
            "------->         [4 1]     6\n",
            "------->         [0 1]     5\n",
            "------->         [1 0]     4\n",
            "------->         [1 3]     3\n",
            "------->         [4 0]     2\n",
            "------->         [0 0]     1\n"
          ]
        }
      ]
    },
    {
      "cell_type": "markdown",
      "metadata": {
        "id": "3tGG6ntF9tFf"
      },
      "source": [
        "Jarras Anchura"
      ]
    },
    {
      "cell_type": "code",
      "metadata": {
        "id": "OEWUK3Nz8_wT"
      },
      "source": [
        "class  JarrasAnchura():\n",
        "    def __init__(self):\n",
        "        self.limite=2#Jarra c que la jarra c sea menor a la jarra b y a \n",
        "        self.pilaaux=Pila()\n",
        "        self.bandera=False\n",
        "        self.Jarras=EstadoJarras()\n",
        "        self.pila=Pila()\n",
        "        self.cola=Cola()\n",
        "        self.pila.push(self.Jarras)\n",
        "        self.cola.agregar(self.pila)\n",
        "        start = timer()\n",
        "        while(not self.bandera and not self.cola.estaVacia()):\n",
        "            self.construyeArbol(self.cola.avanzar())\n",
        "        end = timer()\n",
        "        total = end-start\n",
        "        print(\"El tiempo de ejecucion fue de %s\" %total)\n",
        "        print(\"-----------------solución-------------------\")\n",
        "        if self.pilaaux.tamaño()>0:\n",
        "\n",
        "            self.imprimir(self.pilaaux)\n",
        "            #print(\"No hay solución con anchura \")\n",
        "        else:\n",
        "            print(\"No hay solución con anchura \")\n",
        "\n",
        "    def construyeArbol(self,pila):\n",
        "        #Caso Base\n",
        "        if (self.limite == pila.cabecera().getJarraA().getEdoActual() or  self.limite == pila.cabecera().getJarraB().getEdoActual()) and (self.bandera==False): \n",
        "            self.pilaaux=copy.deepcopy(pila)\n",
        "            self.bandera=True \n",
        "        else:            \n",
        "            #Llenar Jarras\n",
        "            self.llenarJarra(pila,pila.cabecera().getJarraA())\n",
        "            self.llenarJarra(pila,pila.cabecera().getJarraB())  \n",
        "            #Vaciar Jarras\n",
        "            self.tirarAgua(pila,pila.cabecera().getJarraA())\n",
        "            self.tirarAgua(pila,pila.cabecera().getJarraB())\n",
        "            #De jarra a jarra de a a b\n",
        "            self.VaciarJarra(pila,pila.cabecera().getJarraA(), pila.cabecera().getJarraB())\n",
        "            #b a a\n",
        "            self.VaciarJarra(pila,pila.cabecera().getJarraB(), pila.cabecera().getJarraA())\n",
        "# se vacia las jarra que entra\n",
        "    def tirarAgua(self,pila,jarra):\n",
        "        EstadoNuevo=copy.deepcopy(pila)\n",
        "        if jarra.getEdoActual()>0  and self.bandera==False:\n",
        "            liquidoactual=jarra.getEdoActual()\n",
        "            jarra.vaciarJarra()#accion\n",
        "            cabeceraDePilaModificada=copy.deepcopy(pila.cabecera())\n",
        "            EstadoNuevo.push(cabeceraDePilaModificada)\n",
        "            jarra.setEdoActual(liquidoactual)\n",
        "            self.cola.agregar(EstadoNuevo)\n",
        "# se llena la jarra que entra \n",
        "    def llenarJarra(self,pila,jarra):\n",
        "        EstadoNuevo=copy.deepcopy(pila)\n",
        "        if jarra.getEdoActual()==0 and self.bandera==False:\n",
        "            jarra.llenarJarra()\n",
        "            cabeceraDePilaModificada=copy.deepcopy(pila.cabecera())\n",
        "            EstadoNuevo.push(cabeceraDePilaModificada)\n",
        "            jarra.vaciarJarra()\n",
        "            self.cola.agregar(EstadoNuevo)\n",
        "# se llena la jarra \n",
        "\n",
        "    def VaciarJarra(self, pila, jarra1,jarra2):\n",
        "        #time.sleep(1)\n",
        "        EstadoNuevo=copy.deepcopy(pila) #Las Pilas de Jarras cabeera\n",
        "        if (pila.cabecera().vaciarJarra(jarra1,jarra2)) and self.bandera==False:\n",
        "            aguaquelecabe= jarra2.getLimite()-jarra2.getEdoActual()  #agua que le cabe a la jarra dos\n",
        "            if aguaquelecabe>jarra1.getEdoActual():\n",
        "                aguaquelecabe=jarra1.getEdoActual()+0\n",
        "                jarra1.quitarAguaDeJarra(aguaquelecabe)\n",
        "                jarra2.agregarAgua(aguaquelecabe)\n",
        "            else:\n",
        "                jarra1.quitarAguaDeJarra(aguaquelecabe)\n",
        "                jarra2.agregarAgua(aguaquelecabe)\n",
        "            cabeceraDePilaModificada=copy.deepcopy(pila.cabecera())\n",
        "            if(self.limite == pila.cabecera().getJarraA().getEdoActual() or  self.limite == pila.cabecera().getJarraB().getEdoActual()):\n",
        "                print(\"**************************************************solucion agregada a la cola ********************************\")\n",
        "            EstadoNuevo.push(cabeceraDePilaModificada)\n",
        "            jarra2.quitarAguaDeJarra(aguaquelecabe)\n",
        "            jarra1.agregarAgua(aguaquelecabe)\n",
        "            self.cola.agregar(EstadoNuevo)\n",
        "                #self.imprimir(EstadoNuevo)\n",
        "\n",
        "    def imprimir(self, pila):\n",
        "        print(\"----------->\" )\n",
        "        pilaa=copy.deepcopy(pila)\n",
        "        while not pilaa.isEmpty():\n",
        "            print(\"---\",pilaa.cabecera().regresaCabeceras())\n",
        "            pilaa.pop()"
      ],
      "execution_count": 13,
      "outputs": []
    },
    {
      "cell_type": "code",
      "metadata": {
        "colab": {
          "base_uri": "https://localhost:8080/"
        },
        "id": "bYT0XsIE9IEY",
        "outputId": "9adf2942-8496-4a88-b733-c90844413ef0"
      },
      "source": [
        "JarraAn=JarrasAnchura()"
      ],
      "execution_count": 14,
      "outputs": [
        {
          "output_type": "stream",
          "name": "stdout",
          "text": [
            "**************************************************solucion agregada a la cola ********************************\n",
            "El tiempo de ejecucion fue de 0.3838211889999883\n",
            "-----------------solución-------------------\n",
            "----------->\n",
            "--- [2 3]\n",
            "--- [4 1]\n",
            "--- [0 1]\n",
            "--- [1 0]\n",
            "--- [1 3]\n",
            "--- [4 0]\n",
            "--- [0 0]\n"
          ]
        }
      ]
    }
  ]
}