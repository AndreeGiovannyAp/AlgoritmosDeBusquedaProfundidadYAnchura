{
  "nbformat": 4,
  "nbformat_minor": 0,
  "metadata": {
    "colab": {
      "name": "Copia de Recuperación.ipynb",
      "provenance": [],
      "collapsed_sections": []
    },
    "kernelspec": {
      "name": "python3",
      "display_name": "Python 3"
    }
  },
  "cells": [
    {
      "cell_type": "code",
      "metadata": {
        "id": "-6XhaPTsNK1J"
      },
      "source": [
        "import random\n",
        "import numpy as np\n",
        "import sys\n",
        "import matplotlib.pyplot as plt\n",
        "import random\n",
        "import copy\n",
        "from timeit import default_timer as timer"
      ],
      "execution_count": 13,
      "outputs": []
    },
    {
      "cell_type": "markdown",
      "metadata": {
        "id": "yJIobVPrSpgW"
      },
      "source": [
        "# Laberinto (No modificar)"
      ]
    },
    {
      "cell_type": "code",
      "metadata": {
        "id": "_olzJRu5N_9V"
      },
      "source": [
        "# Inicializamos el mapa \n",
        "def inicializarMapa(mapa, P):\n",
        "    for i in range(len(mapa)):\n",
        "        for j in range(len(mapa[0])): \n",
        "            valor = random.uniform(0, 1) \n",
        "            if valor < P:\n",
        "                mapa[i][j] = 1\n",
        "#\n",
        "def contarVecinosVivos(mapa, x, y):\n",
        "    dimy = len(mapa)\n",
        "    dimx = len(mapa[0])     \n",
        "    contador = 0     \n",
        "    for i in range(-1, 2):\n",
        "        for j in range(-1, 2):             \n",
        "            if (i == 0 and j == 0):\n",
        "                pass \n",
        "            else:\n",
        "                vecinox = x + i\n",
        "                vecinoy = y + j \n",
        "                if (vecinox < 0 or vecinox >= dimx or vecinoy < 0 or vecinoy >= dimy):\n",
        "                    contador += 1 \n",
        "                else:\n",
        "                    contador += mapa[vecinoy][vecinox] \n",
        "    #print(contador)\n",
        "    return contador"
      ],
      "execution_count": 14,
      "outputs": []
    },
    {
      "cell_type": "code",
      "metadata": {
        "id": "S8zkGR64N8X1"
      },
      "source": [
        "def calcularPaso(mapa, lim_aislamiento, lim_nacimiento):\n",
        "    dimy = len(mapa)\n",
        "    dimx = len(mapa[0])\n",
        "    mapa_aux = np.zeros((dimy, dimx), dtype = int)\n",
        "    for x in range(dimx):\n",
        "        for y in range(dimy):\n",
        "            num_vecinos = contarVecinosVivos(mapa, x, y)\n",
        "            if mapa[y][x] == 1: \n",
        "                if num_vecinos < lim_aislamiento:\n",
        "                    mapa_aux[y][x] = 0\n",
        "                else:\n",
        "                    mapa_aux[y][x] = 1\n",
        "            elif mapa[y][x] == 0: \n",
        "                if num_vecinos > lim_nacimiento:\n",
        "                    mapa_aux[y][x] = 1\n",
        "                else:\n",
        "                    mapa_aux[y][x] = 0\n",
        "    return mapa_aux"
      ],
      "execution_count": 15,
      "outputs": []
    },
    {
      "cell_type": "code",
      "metadata": {
        "id": "M2JN_Ac0OH8u"
      },
      "source": [
        "def dibujarMapa(mapa):\n",
        "  plt.imshow(mapa)\n",
        "  plt.colorbar()\n",
        "  plt.show()"
      ],
      "execution_count": 16,
      "outputs": []
    },
    {
      "cell_type": "code",
      "metadata": {
        "id": "5B5lxOItPO2x"
      },
      "source": [
        "def floodFill(mapa, posy, posx, num_region):\n",
        "    ysize = len(mapa)\n",
        "    xsize = len(mapa[0])\n",
        "    pila = set(((posy, posx),))\n",
        "    area = 0\n",
        "    while len(pila) > 0:\n",
        "        y, x = pila.pop()\n",
        "        area = area + 1\n",
        "        if mapa[y][x] == 0:\n",
        "            mapa[y][x] = num_region\n",
        "            if y > 0:\n",
        "                pila.add((y - 1, x))\n",
        "            if y < (ysize - 1):\n",
        "                pila.add((y + 1, x))\n",
        "            if x > 0:\n",
        "                pila.add((y, x - 1))\n",
        "            if x < (xsize - 1):\n",
        "                pila.add((y, x + 1))\n",
        "    return area"
      ],
      "execution_count": 17,
      "outputs": []
    },
    {
      "cell_type": "code",
      "metadata": {
        "id": "z4_IIRbpPWXd"
      },
      "source": [
        "def eliminarZonasAisladas(mapa):\n",
        "    dimy = len(mapa)\n",
        "    dimx = len(mapa[0])\n",
        "    region = 2\n",
        "    areas = []\n",
        "    mapa_aux = np.copy(mapa)   \n",
        "    for x in range(dimx):\n",
        "        for y in range(dimy):\n",
        "            if mapa_aux[y][x] == 0:\n",
        "                areas.append(floodFill(mapa_aux, y, x, region))\n",
        "                region = region + 1\n",
        "    region_maxima = areas.index(max(areas)) + 2\n",
        "    for x in range(dimx):\n",
        "        for y in range(dimy):\n",
        "            if mapa_aux[y][x] != 1 and mapa_aux[y][x] != region_maxima:\n",
        "                mapa[y][x] = 1\n",
        "    return mapa"
      ],
      "execution_count": 18,
      "outputs": []
    },
    {
      "cell_type": "code",
      "metadata": {
        "id": "pL_fZfAJPgO1",
        "colab": {
          "base_uri": "https://localhost:8080/",
          "height": 268
        },
        "outputId": "5726e75c-56b7-46d4-a0fd-08c4fd78871a"
      },
      "source": [
        "#dimx = max(int(input(\"Ancho del mapa: \")), 20)\n",
        "#dimy = max(int(input(\"Alto del mapa: \")), 20)\n",
        "\n",
        "\n",
        "dimx = 15\n",
        "dimy = 15\n",
        "#lim_aislamiento = int(input(\"Limite para aislamiento (recomendado 3): \"))\n",
        "lim_aislamiento = 3\n",
        "#lim_nacimiento = int(input(\"Limite para nacimiento (recomendado 4): \"))\n",
        "lim_nacimiento = 4\n",
        "#n = int(input(\"Num. de pasos para el automata celular (recomendado 5-6): \"))\n",
        "n = 5\n",
        "#P = float(input(\"Probabilidad inicializar una casilla como viva (recomendado 0.4): \"))\n",
        "P = 0.4\n",
        "mapa = np.zeros((dimy,dimx), dtype=int)\n",
        "inicializarMapa(mapa, P)\n",
        "for i in range(n):\n",
        "    mapa = calcularPaso(mapa, lim_aislamiento, lim_nacimiento)\n",
        "mapa = eliminarZonasAisladas(mapa)\n",
        "dibujarMapa(mapa)"
      ],
      "execution_count": 19,
      "outputs": [
        {
          "output_type": "display_data",
          "data": {
            "image/png": "[encoded data removed]",
            "text/plain": [
              "<Figure size 432x288 with 2 Axes>"
            ]
          },
          "metadata": {
            "needs_background": "light"
          }
        }
      ]
    },
    {
      "cell_type": "markdown",
      "metadata": {
        "id": "C40YC4HKVxC8"
      },
      "source": [
        "# Indicaciones generales\n",
        "Al ejecutar la siguiente celda de código se generará de forma automática un laberinto (diferente en cada ejecución) y se presentará su imagen para mayor referencia.\n",
        " \n",
        "Dicho laberinto se encuentra almacenado en la variable **\"mapa\"**, este mapa es el que usaran como base para la aplicación del algoritmo de búsqueda \"Primero en Profundidad\" y \"Primero en Anchura\".\n",
        " \n",
        "Como podrán ver la variable mapa es una matriz de 0 y 1, en donde los 1's corresponden a las paredes y los 0's a los pasillos libres.\n",
        " \n",
        "Con esta información se necesita un programa que encuentre una ruta entre una coordenada inicial $i$ y una final $j$.\n",
        " \n",
        "Implemente los algoritmos de búsqueda no informada \"Primero en profundidad\" y \"Primero en anchura\" para encontrar un camino entre los puntos ingresados por el usuario.\n",
        " \n",
        "Al final tome la solución encontrada por el programa y sustituya las coordenadas por un valor de **0** en la matriz que corresponda e imprima el mapa resultante."
      ]
    },
    {
      "cell_type": "code",
      "metadata": {
        "colab": {
          "base_uri": "https://localhost:8080/",
          "height": 530
        },
        "id": "aK40JShaQtXb",
        "outputId": "07138edf-191d-4609-b86e-b960210ec5bb"
      },
      "source": [
        "dibujarMapa(mapa) #Usen esta función para imprimir el mapa\n",
        "#Como pueden ver al imprimir la variable mapa que se generó, es una matriz de 0's y 1's\n",
        "print(mapa)\n",
        "\n",
        "\n"
      ],
      "execution_count": 20,
      "outputs": [
        {
          "output_type": "display_data",
          "data": {
            "image/png": "[encoded data removed]",
            "text/plain": [
              "<Figure size 432x288 with 2 Axes>"
            ]
          },
          "metadata": {
            "needs_background": "light"
          }
        },
        {
          "output_type": "stream",
          "name": "stdout",
          "text": [
            "[[1 1 1 1 1 1 1 1 1 1 1 1 1 1 1]\n",
            " [1 1 0 0 0 0 0 0 1 1 1 1 1 1 1]\n",
            " [1 1 0 0 0 0 0 0 0 1 1 1 1 1 1]\n",
            " [1 1 1 1 1 1 0 0 0 1 1 1 1 1 1]\n",
            " [1 1 1 1 1 1 1 0 0 1 1 1 1 1 1]\n",
            " [1 1 0 0 1 1 0 0 0 0 1 1 1 1 1]\n",
            " [1 0 0 0 0 0 0 0 0 0 0 1 1 1 1]\n",
            " [1 0 0 0 0 0 0 0 0 0 0 1 1 1 1]\n",
            " [1 0 0 0 0 0 0 0 0 0 0 1 1 1 1]\n",
            " [1 1 0 0 0 0 0 0 0 0 0 1 1 1 1]\n",
            " [1 1 1 1 0 0 0 0 0 0 0 1 1 1 1]\n",
            " [1 1 1 1 1 0 0 0 0 0 0 1 1 1 1]\n",
            " [1 1 1 1 0 0 1 1 1 0 0 0 1 1 1]\n",
            " [1 1 1 1 0 0 1 1 1 0 0 0 0 1 1]\n",
            " [1 1 1 1 1 1 1 1 1 1 0 0 1 1 1]]\n"
          ]
        }
      ]
    },
    {
      "cell_type": "markdown",
      "metadata": {
        "id": "dPw11EHdd0sG"
      },
      "source": [
        "# Primero en profundidad"
      ]
    },
    {
      "cell_type": "code",
      "metadata": {
        "id": "huKb9Ef9SLC9"
      },
      "source": [
        "#Definir inicio hasta que la cordenada este en una celda = 0\n",
        "inicio= np.array([random.randrange(dimy),random.randrange(dimx)])\n",
        "while (mapa[inicio[0],inicio[1]]==1):\n",
        "  inicio= np.array([random.randrange(dimy),random.randrange(dimx)])\n",
        "#Definir inicio hasta que la cordenada este en una celda = 0\n",
        "fin=np.array([random.randrange(dimy),random.randrange(dimx)])\n",
        "while (mapa[fin[0],fin[1]]==1):\n",
        "  fin= np.array([random.randrange(dimy),random.randrange(dimx)])"
      ],
      "execution_count": 21,
      "outputs": []
    },
    {
      "cell_type": "code",
      "metadata": {
        "id": "mTSCCNi9d6f8",
        "colab": {
          "base_uri": "https://localhost:8080/",
          "height": 702
        },
        "outputId": "6122ddf2-a69b-451f-9943-e5f1b80d626e"
      },
      "source": [
        "#Algoritmo de profundidad\n",
        "def profundidad(map, cordenada):\n",
        "  #agregamos el nuevo estado a la pila \n",
        "  pila.append(cordenada)\n",
        "  #Se compara si es la solución\n",
        "  if(cordenada == fin).all():\n",
        "    return True\n",
        "  else:\n",
        "    #se verifica que la profundidad maxima no sea \n",
        "    if len(pila) < prof_max :\n",
        "      #Verificamos si se puede hacer el movimiento y si hay camino en esa cordenada \n",
        "      if (cordenada[0]+1) < dimx and map[cordenada[0]+1,cordenada[1]]==0:\n",
        "        #Si se cumple esa condición  entramos a la recursividad con la nueva cordenada para guardarla \n",
        "        if profundidad(map,np.array([cordenada[0]+1,cordenada[1]])):\n",
        "          return True\n",
        "      #verificamos si el movimiento no sale de la matriz  y si hay camino de esa cordenada \n",
        "      if (cordenada[0]-1)>=0 and map[cordenada[0]-1,cordenada[1]]==0:\n",
        "        #si se cumple la condición hace el movimiento \n",
        "        if profundidad(map,np.array([cordenada[0]-1,cordenada[1]])):\n",
        "          return True\n",
        "      #verificamos si el movimiento se puee hacer y si hay camino de esa cordenada \n",
        "      if (cordenada[1]+1) < dimy and map[cordenada[0],cordenada[1]+1]==0:\n",
        "        #ya  que vimos que si se puede hacer el movimiento, entramos a la recursividad con las nuevas cordenads \n",
        "        if profundidad(map,np.array([cordenada[0],cordenada[1]+1])):\n",
        "          return True\n",
        "      #verificamos que si se pueda hacer el movimiento \n",
        "      if cordenada[1]-1>=0 and map[cordenada[0],cordenada[1]-1]==0:\n",
        "        #entramos a la recursividad con la nueva cordenada \n",
        "        if profundidad(map,np.array([cordenada[0],cordenada[1]-1])):\n",
        "          return True\n",
        "    pila.pop()\n",
        "    return False\n",
        "#Inicializamos la pila \n",
        "pila = [] #pila\n",
        "# nos da el los valores de inicio del camino y el fin del mimo \n",
        "print(\"inicio \",inicio)\n",
        "print(\"fin \",fin)\n",
        "#Pedimos la profundidad deseada \n",
        "prof_max = int(input(\"Profundidad máxima permitida: \"))\n",
        "#Hacemos una copia del mapa para poder mostrar el resultado sin \n",
        "mapares=copy.deepcopy(mapa)\n",
        "# Llamamos al metodo prfundidad pasandole el mapa y el incio\n",
        "start=timer()\n",
        "if profundidad(mapa,inicio):\n",
        "  end =timer()\n",
        "  print(\"solucion encontrada\")\n",
        "  #Vaciamos la pila para ver el camino que trazo \n",
        "  while(not pila == []):\n",
        "    #se guarda el valor de la pila en un aux\n",
        "    aux=pila.pop()\n",
        "    #imprimimos el valor que son los pasos \n",
        "    print(\"El paso \",len(pila),\" es \",aux)\n",
        "    #dibujamos el resultado  en la copia cambiando el valor de las cordenadas que seleccionamos \n",
        "    mapares[aux[0],aux[1]]=3\n",
        "else:\n",
        "  end =timer()\n",
        "  #en dado caso que no se encuentre la solución a esa profunidad \n",
        "  print(\"solución no encontrada\")\n",
        "  #vaiciamos la pila\n",
        "  pila=[]\n",
        "#dibujamos el mapa \n",
        "\n",
        "total = end-start\n",
        "print(\"El tiempo de ejecucion fue de %s\" %total,\" Segundos \")\n",
        "dibujarMapa(mapares)\n",
        "#print(mapares)"
      ],
      "execution_count": 22,
      "outputs": [
        {
          "output_type": "stream",
          "name": "stdout",
          "text": [
            "inicio  [6 8]\n",
            "fin  [3 8]\n",
            "Profundidad máxima permitida: 20\n",
            "solucion encontrada\n",
            "El paso  19  es  [3 8]\n",
            "El paso  18  es  [4 8]\n",
            "El paso  17  es  [5 8]\n",
            "El paso  16  es  [6 8]\n",
            "El paso  15  es  [7 8]\n",
            "El paso  14  es  [8 8]\n",
            "El paso  13  es  [9 8]\n",
            "El paso  12  es  [10  8]\n",
            "El paso  11  es  [11  8]\n",
            "El paso  10  es  [10  8]\n",
            "El paso  9  es  [11  8]\n",
            "El paso  8  es  [10  8]\n",
            "El paso  7  es  [11  8]\n",
            "El paso  6  es  [10  8]\n",
            "El paso  5  es  [11  8]\n",
            "El paso  4  es  [10  8]\n",
            "El paso  3  es  [9 8]\n",
            "El paso  2  es  [8 8]\n",
            "El paso  1  es  [7 8]\n",
            "El paso  0  es  [6 8]\n",
            "El tiempo de ejecucion fue de 0.024070553999990807  Segundos \n"
          ]
        },
        {
          "output_type": "display_data",
          "data": {
            "image/png": "[encoded data removed]",
            "text/plain": [
              "<Figure size 432x288 with 2 Axes>"
            ]
          },
          "metadata": {
            "needs_background": "light"
          }
        }
      ]
    },
    {
      "cell_type": "markdown",
      "metadata": {
        "id": "wW1ByoW4d7Xr"
      },
      "source": [
        "# Primero en anchura"
      ]
    },
    {
      "cell_type": "code",
      "metadata": {
        "id": "IWYtJLQweAfP",
        "colab": {
          "base_uri": "https://localhost:8080/",
          "height": 407
        },
        "outputId": "ae14e18a-2cd2-4439-9e74-666a706a0dd4"
      },
      "source": [
        " \n",
        "def anchura(cordenada, fin,pila):\n",
        "  #print(bandera)\n",
        "  if(cordenada == fin).all():\n",
        "    #print(\"Hola kevin\")\n",
        "    return True\n",
        "  else:\n",
        "    #Verificamos si se puede hacer el movimiento y si hay camino en esa cordenada \n",
        "    if (cordenada[0]+1) < dimx and mapa[cordenada[0]+1,cordenada[1]]==0:\n",
        "      #hacemos una copia de la pila \n",
        "      pilaaux=copy.copy(pila)\n",
        "      #en la copia agregamos el nuevo estado \n",
        "      pilaaux.append(np.array([cordenada[0]+1,cordenada[1]]))\n",
        "      #y agregamos la pila a la cola \n",
        "      cola.insert(0,pilaaux)\n",
        "    #Verificamos si se puede hacer el movimiento y si hay camino en esa cordenada \n",
        "    if (cordenada[0]-1)>=0 and mapa[cordenada[0]-1,cordenada[1]]==0:\n",
        "      #hacemos una copia de la pila\n",
        "      pilaaux=copy.copy(pila)\n",
        "      #en la copia agregamos el nuevo estado \n",
        "      pilaaux.append(np.array([cordenada[0]-1,cordenada[1]]))\n",
        "      #y agregamos la pila a la cola\n",
        "      cola.insert(0,pilaaux)\n",
        "    #Verificamos si se puede hacer el movimiento y si hay camino en esa cordenada \n",
        "    if (cordenada[1]+1) < dimy and mapa[cordenada[0],cordenada[1]+1]==0:\n",
        "      #hacemos una copia de la pila\n",
        "      pilaaux=copy.copy(pila)\n",
        "      #en la copia agregamos el nuevo estado \n",
        "      pilaaux.append(np.array([cordenada[0],cordenada[1]+1]))\n",
        "      #y agregamos la pila a la cola\n",
        "      cola.insert(0,pilaaux)\n",
        "    #Verificamos si se puede hacer el movimiento y si hay camino en esa cordenada \n",
        "    if cordenada[1]-1>=0 and mapa[cordenada[0],cordenada[1]-1]==0:\n",
        "      #hacemos una copia de la pila\n",
        "      pilaaux=copy.copy(pila)\n",
        "      #en la copia agregamos el nuevo estado \n",
        "      pilaaux.append(np.array([cordenada[0],cordenada[1]-1]))\n",
        "      #y agregamos la pila a la cola\n",
        "      cola.insert(0,pilaaux)\n",
        "    return False\n",
        "#inicialisamos la cola y la pila \n",
        "pila=[]\n",
        "cola=[]\n",
        "#fin=np.array([8,0])\n",
        "#imprimimos el incio y el fin \n",
        "print(\"cordenada de inicio \",inicio)\n",
        "print(\"cordenada fin \",fin)\n",
        "#agregamos el inicio a la pila\n",
        "pila.append(inicio)\n",
        "#agregamos la pila a la cola \n",
        "cola.insert(0,pila)\n",
        "#print(len(cola))\n",
        "bandera=False\n",
        "start=timer()\n",
        "#while para recorrer la cola e ir formando elementos \n",
        "while not bandera:\n",
        "  #sacamos la pila que esta en la cabecera de la cola \n",
        "  pilaaux=cola.pop()\n",
        "  #hacemos el metodo de anchura \n",
        "  bandera=anchura(pilaaux[len(pilaaux)-1],fin,pilaaux)\n",
        "#si se encuentra el resultado \n",
        "end =timer()\n",
        "total = end-start\n",
        "print(\"El tiempo de ejecucion fue de %s\" %total,\" Segundos \")\n",
        "mapares=copy.deepcopy(mapa)\n",
        "if bandera:\n",
        "  print(\"solucion encontrada\")\n",
        "  #recorre la pila con la solución \n",
        "  while(not pilaaux == []):\n",
        "    #sacamos el valor \n",
        "    aux=pilaaux.pop()\n",
        "    #imprimimos los valores que sacamos de la solución\n",
        "    print(\"El paso \",len(pilaaux),\" es \",aux)\n",
        "    #cambiamos el valor de los mapas a 3 \n",
        "    mapares[aux[0],aux[1]]=3\n",
        "else:\n",
        "  print(\"solución no encontrada\")\n",
        "dibujarMapa(mapares)\n",
        "#print(mapares)"
      ],
      "execution_count": 23,
      "outputs": [
        {
          "output_type": "stream",
          "name": "stdout",
          "text": [
            "cordenada de inicio  [6 8]\n",
            "cordenada fin  [3 8]\n",
            "El tiempo de ejecucion fue de 0.0008931869999742048  Segundos \n",
            "solucion encontrada\n",
            "El paso  3  es  [3 8]\n",
            "El paso  2  es  [4 8]\n",
            "El paso  1  es  [5 8]\n",
            "El paso  0  es  [6 8]\n"
          ]
        },
        {
          "output_type": "display_data",
          "data": {
            "image/png": "[encoded data removed]",
            "text/plain": [
              "<Figure size 432x288 with 2 Axes>"
            ]
          },
          "metadata": {
            "needs_background": "light"
          }
        }
      ]
    }
  ]
}